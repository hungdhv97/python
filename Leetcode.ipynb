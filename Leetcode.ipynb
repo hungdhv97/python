{
 "cells": [
  {
   "cell_type": "code",
   "execution_count": 1,
   "id": "b0d59756",
   "metadata": {},
   "outputs": [
    {
     "name": "stdout",
     "output_type": "stream",
     "text": [
      "abcdefghijklmnopqrstuvwxyz\n"
     ]
    }
   ],
   "source": [
    "s = \"\"\n",
    "for i in range(26):\n",
    "    s = s + chr(ord('a') + i)\n",
    "print (s)"
   ]
  },
  {
   "cell_type": "code",
   "execution_count": 5,
   "id": "14264638",
   "metadata": {},
   "outputs": [
    {
     "data": {
      "text/plain": [
       "'c'"
      ]
     },
     "execution_count": 5,
     "metadata": {},
     "output_type": "execute_result"
    }
   ],
   "source": [
    "min('c','g', 'd', 'f')"
   ]
  },
  {
   "cell_type": "code",
   "execution_count": 9,
   "id": "91f472b5",
   "metadata": {},
   "outputs": [
    {
     "data": {
      "text/plain": [
       "'abcgefghijklmnopqrstuvwxyz'"
      ]
     },
     "execution_count": 9,
     "metadata": {},
     "output_type": "execute_result"
    }
   ],
   "source": [
    "s.replace('d', 'g')"
   ]
  },
  {
   "cell_type": "code",
   "execution_count": 10,
   "id": "e5e90710",
   "metadata": {},
   "outputs": [
    {
     "data": {
      "text/plain": [
       "'abcdefghijklmnopqrstuvwxyz'"
      ]
     },
     "execution_count": 10,
     "metadata": {},
     "output_type": "execute_result"
    }
   ],
   "source": [
    "s"
   ]
  },
  {
   "cell_type": "code",
   "execution_count": 15,
   "id": "e43d8d26",
   "metadata": {},
   "outputs": [
    {
     "name": "stdout",
     "output_type": "stream",
     "text": [
      "m\n",
      "a\n",
      "k\n",
      "k\n",
      "e\n",
      "k\n"
     ]
    },
    {
     "data": {
      "text/plain": [
       "''"
      ]
     },
     "execution_count": 15,
     "metadata": {},
     "output_type": "execute_result"
    }
   ],
   "source": [
    "s = \"\"\n",
    "s1 = \"parker\"\n",
    "s2 = \"morris\"\n",
    "baseStr = \"parser\"\n",
    "for i in range(26):\n",
    "    s = s + chr(ord('a') + i)\n",
    "for i in range(len(s1)):\n",
    "    c1 = s[ord(s1[i]) - ord('a')]\n",
    "    c2 = s[ord(s2[i]) - ord('a')]\n",
    "    if c1 == c2:\n",
    "        continue\n",
    "    elif c1 > c2:\n",
    "        s = s.replace(c1, c2)\n",
    "    else: \n",
    "        s = s.replace(c2, c1)\n",
    "\n",
    "result = \"\"\n",
    "for c in baseStr:\n",
    "    print(s[ord(c) - ord('a')])\n",
    "result"
   ]
  },
  {
   "cell_type": "code",
   "execution_count": 16,
   "id": "89dc9e77",
   "metadata": {},
   "outputs": [],
   "source": [
    "tuple2 = (1, 5, 7, 9, 3)"
   ]
  },
  {
   "cell_type": "code",
   "execution_count": 17,
   "id": "38ddb27a",
   "metadata": {},
   "outputs": [
    {
     "data": {
      "text/plain": [
       "(5, 7)"
      ]
     },
     "execution_count": 17,
     "metadata": {},
     "output_type": "execute_result"
    }
   ],
   "source": [
    "tuple2[1:3]"
   ]
  },
  {
   "cell_type": "code",
   "execution_count": 18,
   "id": "1bf51c15",
   "metadata": {},
   "outputs": [],
   "source": [
    "def count_substrings(s):\n",
    "    res = i = 0\n",
    "    for j in range(1, len(s) + 1):\n",
    "        if s[j - 1] != s[j]:\n",
    "            i = j\n",
    "        res += j - i\n",
    "    return res"
   ]
  },
  {
   "cell_type": "code",
   "execution_count": 19,
   "id": "52cac023",
   "metadata": {},
   "outputs": [
    {
     "ename": "IndexError",
     "evalue": "string index out of range",
     "output_type": "error",
     "traceback": [
      "\u001b[1;31m---------------------------------------------------------------------------\u001b[0m",
      "\u001b[1;31mIndexError\u001b[0m                                Traceback (most recent call last)",
      "Cell \u001b[1;32mIn[19], line 2\u001b[0m\n\u001b[0;32m      1\u001b[0m s \u001b[38;5;241m=\u001b[39m \u001b[38;5;124m\"\u001b[39m\u001b[38;5;124maaaba\u001b[39m\u001b[38;5;124m\"\u001b[39m\n\u001b[1;32m----> 2\u001b[0m \u001b[38;5;28mprint\u001b[39m(\u001b[43mcount_substrings\u001b[49m\u001b[43m(\u001b[49m\u001b[43ms\u001b[49m\u001b[43m)\u001b[49m)\n",
      "Cell \u001b[1;32mIn[18], line 4\u001b[0m, in \u001b[0;36mcount_substrings\u001b[1;34m(s)\u001b[0m\n\u001b[0;32m      2\u001b[0m res \u001b[38;5;241m=\u001b[39m i \u001b[38;5;241m=\u001b[39m \u001b[38;5;241m0\u001b[39m\n\u001b[0;32m      3\u001b[0m \u001b[38;5;28;01mfor\u001b[39;00m j \u001b[38;5;129;01min\u001b[39;00m \u001b[38;5;28mrange\u001b[39m(\u001b[38;5;241m1\u001b[39m, \u001b[38;5;28mlen\u001b[39m(s) \u001b[38;5;241m+\u001b[39m \u001b[38;5;241m1\u001b[39m):\n\u001b[1;32m----> 4\u001b[0m     \u001b[38;5;28;01mif\u001b[39;00m s[j \u001b[38;5;241m-\u001b[39m \u001b[38;5;241m1\u001b[39m] \u001b[38;5;241m!=\u001b[39m \u001b[43ms\u001b[49m\u001b[43m[\u001b[49m\u001b[43mj\u001b[49m\u001b[43m]\u001b[49m:\n\u001b[0;32m      5\u001b[0m         i \u001b[38;5;241m=\u001b[39m j\n\u001b[0;32m      6\u001b[0m     res \u001b[38;5;241m+\u001b[39m\u001b[38;5;241m=\u001b[39m j \u001b[38;5;241m-\u001b[39m i\n",
      "\u001b[1;31mIndexError\u001b[0m: string index out of range"
     ]
    }
   ],
   "source": [
    "s = \"aaaba\"\n",
    "print(count_substrings(s))"
   ]
  },
  {
   "cell_type": "code",
   "execution_count": null,
   "id": "859c2e12",
   "metadata": {},
   "outputs": [],
   "source": []
  }
 ],
 "metadata": {
  "kernelspec": {
   "display_name": "Python 3 (ipykernel)",
   "language": "python",
   "name": "python3"
  },
  "language_info": {
   "codemirror_mode": {
    "name": "ipython",
    "version": 3
   },
   "file_extension": ".py",
   "mimetype": "text/x-python",
   "name": "python",
   "nbconvert_exporter": "python",
   "pygments_lexer": "ipython3",
   "version": "3.10.3"
  }
 },
 "nbformat": 4,
 "nbformat_minor": 5
}
